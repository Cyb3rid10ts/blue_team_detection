{
 "cells": [
  {
   "cell_type": "markdown",
   "metadata": {},
   "source": [
    "# Detecting malicious URLs"
   ]
  },
  {
   "cell_type": "code",
   "execution_count": 19,
   "metadata": {},
   "outputs": [],
   "source": [
    "# GENERAL\n",
    "import os\n",
    "import math\n",
    "import re\n",
    "import datetime\n",
    "import time\n",
    "import pandas as pd\n",
    "import matplotlib as plt\n",
    "import seaborn as sns\n",
    "from tqdm import tqdm"
   ]
  },
  {
   "cell_type": "markdown",
   "metadata": {},
   "source": [
    "For this experiment, we will be using the Sklearn library along with it's tools to assist us along the data science process."
   ]
  },
  {
   "cell_type": "code",
   "execution_count": 20,
   "metadata": {},
   "outputs": [],
   "source": [
    "# SKLEARN\n",
    "import joblib\n",
    "from sklearn.model_selection import train_test_split, GridSearchCV, StratifiedKFold"
   ]
  },
  {
   "cell_type": "markdown",
   "metadata": {},
   "source": [
    "Here we import some libraries to assist us in pulling, parsing, and transforming our domain information."
   ]
  },
  {
   "cell_type": "code",
   "execution_count": 21,
   "metadata": {},
   "outputs": [],
   "source": [
    "# DOMAIN SPECIFIC LIBRARIES\n",
    "import tldextract\n",
    "from datetime import datetime\n",
    "import warnings\n",
    "from urllib.parse import urlparse\n",
    "from socket import gethostbyname, gaierror, timeout\n",
    "import whois"
   ]
  },
  {
   "cell_type": "code",
   "execution_count": 22,
   "metadata": {},
   "outputs": [],
   "source": [
    "# iPython and Notebook config\n",
    "from IPython.core.interactiveshell import InteractiveShell\n",
    "InteractiveShell.ast_node_interactivity = \"all\" #display all results\n",
    "\n",
    "%config InlineBackend.figure_format = 'retina' #see plots in retina displays\n",
    "%reload_ext autoreload\n",
    "%autoreload 2\n",
    "%matplotlib inline"
   ]
  },
  {
   "cell_type": "markdown",
   "metadata": {},
   "source": [
    "## Data Ingestion"
   ]
  },
  {
   "cell_type": "markdown",
   "metadata": {},
   "source": [
    "### The bad stuff"
   ]
  },
  {
   "cell_type": "markdown",
   "metadata": {},
   "source": [
    "Exploring the Internet, we find a nice list of maliciousness, provided by http://www.malwaredomainlist.com/\n",
    "\n",
    "Link: http://www.malwaredomainlist.com/hostslist/hosts.txt"
   ]
  },
  {
   "cell_type": "code",
   "execution_count": 23,
   "metadata": {},
   "outputs": [],
   "source": [
    "# Ingest malicious urls from malwaredomainlist\n",
    "columns = ['ip', 'url']\n",
    "\n",
    "mal_df = pd.read_csv('../data/hosts.txt', \n",
    "                     delimiter = '\\s+', \n",
    "                     encoding = \"ISO-8859-1\", \n",
    "                     skiprows=6,\n",
    "                     names = columns)[['url']]"
   ]
  },
  {
   "cell_type": "code",
   "execution_count": 24,
   "metadata": {},
   "outputs": [],
   "source": [
    "# Randomly sample 500 elements from your dataframe\n",
    "mal_sample_df = mal_df.sample(n=1000)"
   ]
  },
  {
   "cell_type": "code",
   "execution_count": 25,
   "metadata": {},
   "outputs": [],
   "source": [
    "mal_sample_df['class'] = 'malicious'"
   ]
  },
  {
   "cell_type": "code",
   "execution_count": 26,
   "metadata": {},
   "outputs": [
    {
     "data": {
      "text/html": [
       "<div>\n",
       "<style scoped>\n",
       "    .dataframe tbody tr th:only-of-type {\n",
       "        vertical-align: middle;\n",
       "    }\n",
       "\n",
       "    .dataframe tbody tr th {\n",
       "        vertical-align: top;\n",
       "    }\n",
       "\n",
       "    .dataframe thead th {\n",
       "        text-align: right;\n",
       "    }\n",
       "</style>\n",
       "<table border=\"1\" class=\"dataframe\">\n",
       "  <thead>\n",
       "    <tr style=\"text-align: right;\">\n",
       "      <th></th>\n",
       "      <th>url</th>\n",
       "      <th>class</th>\n",
       "    </tr>\n",
       "  </thead>\n",
       "  <tbody>\n",
       "    <tr>\n",
       "      <th>862</th>\n",
       "      <td>vitalityxray.com</td>\n",
       "      <td>malicious</td>\n",
       "    </tr>\n",
       "    <tr>\n",
       "      <th>755</th>\n",
       "      <td>traff1.com</td>\n",
       "      <td>malicious</td>\n",
       "    </tr>\n",
       "    <tr>\n",
       "      <th>979</th>\n",
       "      <td>www.joomlalivechat.com</td>\n",
       "      <td>malicious</td>\n",
       "    </tr>\n",
       "    <tr>\n",
       "      <th>221</th>\n",
       "      <td>f.gj555.net</td>\n",
       "      <td>malicious</td>\n",
       "    </tr>\n",
       "    <tr>\n",
       "      <th>758</th>\n",
       "      <td>treventuresonline.com</td>\n",
       "      <td>malicious</td>\n",
       "    </tr>\n",
       "  </tbody>\n",
       "</table>\n",
       "</div>"
      ],
      "text/plain": [
       "                        url      class\n",
       "862        vitalityxray.com  malicious\n",
       "755              traff1.com  malicious\n",
       "979  www.joomlalivechat.com  malicious\n",
       "221             f.gj555.net  malicious\n",
       "758   treventuresonline.com  malicious"
      ]
     },
     "execution_count": 26,
     "metadata": {},
     "output_type": "execute_result"
    }
   ],
   "source": [
    "mal_sample_df.head()"
   ]
  },
  {
   "cell_type": "markdown",
   "metadata": {},
   "source": [
    "### The mostly benign stuff"
   ]
  },
  {
   "cell_type": "code",
   "execution_count": null,
   "metadata": {},
   "outputs": [],
   "source": [
    "# Ingest Alex top 1 million urls \n",
    "columns = ['url']\n",
    "\n",
    "benign_df = pd.read_csv('../data/top-1m.csv', \n",
    "                     encoding = \"ISO-8859-1\", \n",
    "                     names = columns)"
   ]
  },
  {
   "cell_type": "code",
   "execution_count": null,
   "metadata": {},
   "outputs": [],
   "source": [
    "benign_sample_df = benign_df.iloc[0:1000]"
   ]
  },
  {
   "cell_type": "code",
   "execution_count": null,
   "metadata": {},
   "outputs": [
    {
     "name": "stderr",
     "output_type": "stream",
     "text": [
      "/Users/alistairgillespie/anaconda/lib/python3.6/site-packages/ipykernel_launcher.py:1: SettingWithCopyWarning: \n",
      "A value is trying to be set on a copy of a slice from a DataFrame.\n",
      "Try using .loc[row_indexer,col_indexer] = value instead\n",
      "\n",
      "See the caveats in the documentation: http://pandas.pydata.org/pandas-docs/stable/indexing.html#indexing-view-versus-copy\n",
      "  \"\"\"Entry point for launching an IPython kernel.\n"
     ]
    }
   ],
   "source": [
    "benign_sample_df['class'] = 'benign'"
   ]
  },
  {
   "cell_type": "code",
   "execution_count": null,
   "metadata": {},
   "outputs": [
    {
     "data": {
      "text/html": [
       "<div>\n",
       "<style scoped>\n",
       "    .dataframe tbody tr th:only-of-type {\n",
       "        vertical-align: middle;\n",
       "    }\n",
       "\n",
       "    .dataframe tbody tr th {\n",
       "        vertical-align: top;\n",
       "    }\n",
       "\n",
       "    .dataframe thead th {\n",
       "        text-align: right;\n",
       "    }\n",
       "</style>\n",
       "<table border=\"1\" class=\"dataframe\">\n",
       "  <thead>\n",
       "    <tr style=\"text-align: right;\">\n",
       "      <th></th>\n",
       "      <th>url</th>\n",
       "      <th>class</th>\n",
       "    </tr>\n",
       "  </thead>\n",
       "  <tbody>\n",
       "    <tr>\n",
       "      <th>1</th>\n",
       "      <td>google.com</td>\n",
       "      <td>benign</td>\n",
       "    </tr>\n",
       "    <tr>\n",
       "      <th>2</th>\n",
       "      <td>youtube.com</td>\n",
       "      <td>benign</td>\n",
       "    </tr>\n",
       "    <tr>\n",
       "      <th>3</th>\n",
       "      <td>baidu.com</td>\n",
       "      <td>benign</td>\n",
       "    </tr>\n",
       "    <tr>\n",
       "      <th>4</th>\n",
       "      <td>facebook.com</td>\n",
       "      <td>benign</td>\n",
       "    </tr>\n",
       "    <tr>\n",
       "      <th>5</th>\n",
       "      <td>qq.com</td>\n",
       "      <td>benign</td>\n",
       "    </tr>\n",
       "  </tbody>\n",
       "</table>\n",
       "</div>"
      ],
      "text/plain": [
       "            url   class\n",
       "1    google.com  benign\n",
       "2   youtube.com  benign\n",
       "3     baidu.com  benign\n",
       "4  facebook.com  benign\n",
       "5        qq.com  benign"
      ]
     },
     "execution_count": 30,
     "metadata": {},
     "output_type": "execute_result"
    }
   ],
   "source": [
    "benign_sample_df.head()"
   ]
  },
  {
   "cell_type": "code",
   "execution_count": null,
   "metadata": {},
   "outputs": [
    {
     "name": "stdout",
     "output_type": "stream",
     "text": [
      "(1000, 2) (1000, 2)\n"
     ]
    }
   ],
   "source": [
    "# Frames we would like to merge\n",
    "full_data = [mal_sample_df, benign_sample_df]\n",
    "print(mal_sample_df.shape, benign_sample_df.shape)"
   ]
  },
  {
   "cell_type": "code",
   "execution_count": null,
   "metadata": {
    "scrolled": true
   },
   "outputs": [
    {
     "name": "stderr",
     "output_type": "stream",
     "text": [
      "  1%|▏         | 13/1000 [00:16<13:17,  1.24it/s]"
     ]
    }
   ],
   "source": [
    "tqdm.pandas()\n",
    "\n",
    "def creation_date(domain_name):\n",
    "    \"\"\"\n",
    "    Gets creation date of domain from whois\n",
    "    \"\"\"\n",
    "    \n",
    "    # Get creation date of Domain\n",
    "    currentDT = datetime.now()\n",
    "    default_date = currentDT.strftime(\"%Y-%m-%d %H:%M:%S\")\n",
    "    \n",
    "    try:\n",
    "        creation_date = whois.whois(domain_name).creation_date\n",
    "        if type(creation_date) is list:\n",
    "            return creation_date[0]\n",
    "#         elif str(creation_date).find('Aug'):\n",
    "#             creation_date = \"1996-07-01 00:00:01\"\n",
    "#             return creation_date\n",
    "        elif creation_date == None:\n",
    "            return default_date\n",
    "        else:\n",
    "            return creation_date\n",
    "    except whois.parser.PywhoisError:\n",
    "        return default_date\n",
    "    except gaierror:\n",
    "        return default_date\n",
    "    except socket.timeout:\n",
    "        return default_date\n",
    "    except socket.error:\n",
    "        return default_date\n",
    "\n",
    "# Generate creation date\n",
    "for df in full_data:\n",
    "    df['domain_creation'] = df['url'].progress_apply(lambda x: creation_date(x))"
   ]
  },
  {
   "cell_type": "code",
   "execution_count": null,
   "metadata": {
    "scrolled": true
   },
   "outputs": [],
   "source": [
    "tqdm.pandas()\n",
    "\n",
    "def last_update_date(domain_name):\n",
    "    \"\"\"\n",
    "    Gets creation date of domain from whois\n",
    "    \"\"\"\n",
    "    \n",
    "    # Get creation date of Domain\n",
    "    currentDT = datetime.now()\n",
    "    default_date = currentDT.strftime(\"%Y-%m-%d %H:%M:%S\")\n",
    "    \n",
    "    try:\n",
    "        last_updated = whois.whois(domain_name).updated_date\n",
    "        if type(last_updated) is list:\n",
    "            return last_updated[0]\n",
    "        elif last_updated == None:\n",
    "            return default_date\n",
    "        else:\n",
    "            return last_updated\n",
    "    except whois.parser.PywhoisError:\n",
    "        return default_date\n",
    "    except gaierror:\n",
    "        return default_date\n",
    "    except socket.timeout:\n",
    "        return default_date\n",
    "    except socket.error:\n",
    "        return default_date\n",
    "\n",
    "# Generate creation date\n",
    "for df in full_data:\n",
    "    df['domain_update'] = df['url'].progress_apply(lambda x: last_update_date(x))"
   ]
  },
  {
   "cell_type": "code",
   "execution_count": null,
   "metadata": {},
   "outputs": [],
   "source": [
    "def host_ip(domain):\n",
    "    \"\"\"\n",
    "    Gets Host IP of Domain\n",
    "    \"\"\"\n",
    "\n",
    "    # Get HOST IP     \n",
    "    try:\n",
    "        host = gethostbyname(domain)\n",
    "        return host\n",
    "    except gaierror:\n",
    "        return 'missing'\n",
    "\n",
    "# Generate host ip\n",
    "for df in full_data:\n",
    "    df['host_ip'] = df['url'].apply(lambda x: host_ip(x))"
   ]
  },
  {
   "cell_type": "code",
   "execution_count": null,
   "metadata": {},
   "outputs": [],
   "source": [
    "# Generate number of special characters\n",
    "for df in full_data:\n",
    "    df['specials'] = df['url'].apply(lambda x: len(re.sub('[\\w]+' ,'', x)))"
   ]
  },
  {
   "cell_type": "code",
   "execution_count": null,
   "metadata": {},
   "outputs": [],
   "source": [
    "# Get domain\n",
    "for df in full_data:\n",
    "    df['domain'] = df['url'].apply(lambda x: tldextract.extract(x).domain)    "
   ]
  },
  {
   "cell_type": "code",
   "execution_count": null,
   "metadata": {},
   "outputs": [],
   "source": [
    "# Get URL suffix\n",
    "for df in full_data:\n",
    "    df['suffix'] = df['url'].apply(lambda x: tldextract.extract(x).suffix)"
   ]
  },
  {
   "cell_type": "code",
   "execution_count": null,
   "metadata": {},
   "outputs": [],
   "source": [
    "# Generate domain name\n",
    "for df in full_data:\n",
    "    df['domain_name'] = df['url'].apply(lambda x: tldextract.extract(x).registered_domain)"
   ]
  },
  {
   "cell_type": "code",
   "execution_count": null,
   "metadata": {},
   "outputs": [],
   "source": [
    "# Get IP first octet\n",
    "for df in full_data:\n",
    "    df['prefix'] = df['host_ip'].str.extract('(\\d+)\\.').astype(int, errors='ignore').astype(str)\n",
    "    df['prefix'] = df['prefix'].fillna('missing')\n",
    "    df['prefix'] = df['prefix'].replace('nan', 'missing')"
   ]
  },
  {
   "cell_type": "code",
   "execution_count": null,
   "metadata": {},
   "outputs": [],
   "source": [
    "def entropy(string):\n",
    "    \"\"\"\n",
    "    Calculates the Shannon entropy of a string\n",
    "    \"\"\"\n",
    "\n",
    "    # Get probability of chars in string\n",
    "    prob = [ float(string.count(c)) / len(string) for c in dict.fromkeys(list(string)) ]\n",
    "\n",
    "    # Calculate the entropy\n",
    "    entropy = - sum([ p * math.log(p) / math.log(2.0) for p in prob ])\n",
    "\n",
    "    return entropy\n",
    "\n",
    "# Calculate entropy\n",
    "for df in full_data:\n",
    "    df['entropy'] = df['url'].apply(lambda x: entropy(str(x)))"
   ]
  },
  {
   "cell_type": "code",
   "execution_count": null,
   "metadata": {},
   "outputs": [],
   "source": [
    "benign_sample_df['domain_creation'] = pd.to_datetime(benign_sample_df['domain_creation'], errors='coerce')\n",
    "benign_sample_df['domain_creation'].groupby([benign_sample_df[\"domain_creation\"].dt.year, benign_sample_df[\"domain_creation\"].dt.month]).count().plot(kind=\"bar\")"
   ]
  },
  {
   "cell_type": "code",
   "execution_count": null,
   "metadata": {},
   "outputs": [],
   "source": [
    "mal_sample_df['domain_creation'] = pd.to_datetime(mal_sample_df['domain_creation'], errors='coerce')\n",
    "mal_sample_df['domain_creation'].groupby([mal_sample_df[\"domain_creation\"].dt.year, mal_sample_df[\"domain_creation\"].dt.month]).count().plot(kind=\"bar\")"
   ]
  },
  {
   "cell_type": "code",
   "execution_count": null,
   "metadata": {},
   "outputs": [],
   "source": [
    "mal_sample_df['domain_update'] = pd.to_datetime(mal_sample_df['domain_update'], errors='coerce')\n",
    "mal_sample_df['domain_update'].groupby([mal_sample_df[\"domain_update\"].dt.year, mal_sample_df[\"domain_update\"].dt.month]).count().plot(kind=\"bar\")"
   ]
  },
  {
   "cell_type": "code",
   "execution_count": null,
   "metadata": {},
   "outputs": [],
   "source": [
    "benign_sample_df['domain_update'] = pd.to_datetime(benign_sample_df['domain_update'], errors='coerce')\n",
    "benign_sample_df['domain_update'].groupby([benign_sample_df[\"domain_update\"].dt.year, benign_sample_df[\"domain_update\"].dt.month]).count().plot(kind=\"bar\")"
   ]
  },
  {
   "cell_type": "code",
   "execution_count": null,
   "metadata": {},
   "outputs": [],
   "source": []
  }
 ],
 "metadata": {
  "kernelspec": {
   "display_name": "Python 3",
   "language": "python",
   "name": "python3"
  },
  "language_info": {
   "codemirror_mode": {
    "name": "ipython",
    "version": 3
   },
   "file_extension": ".py",
   "mimetype": "text/x-python",
   "name": "python",
   "nbconvert_exporter": "python",
   "pygments_lexer": "ipython3",
   "version": "3.6.8"
  }
 },
 "nbformat": 4,
 "nbformat_minor": 2
}
